{
 "cells": [
  {
   "cell_type": "markdown",
   "metadata": {},
   "source": [
    "# Diccionarios"
   ]
  },
  {
   "cell_type": "markdown",
   "metadata": {},
   "source": [
    "Un diccionario en *Python* no es más que una correspondencia entre **clave** y **valor**."
   ]
  },
  {
   "cell_type": "markdown",
   "metadata": {},
   "source": [
    "<img src=\"img/diccionario_rae.jpg\"/>"
   ]
  },
  {
   "cell_type": "markdown",
   "metadata": {},
   "source": [
    "## Creación de un diccionario"
   ]
  },
  {
   "cell_type": "markdown",
   "metadata": {},
   "source": [
    "Vamos a crear una agenda telefónica, con la ayuda de un diccionario *python*:"
   ]
  },
  {
   "cell_type": "code",
   "execution_count": 3,
   "metadata": {},
   "outputs": [],
   "source": [
    "phone_book = {}"
   ]
  },
  {
   "cell_type": "markdown",
   "metadata": {},
   "source": [
    "Ahora añadimos algunos contactos:"
   ]
  },
  {
   "cell_type": "code",
   "execution_count": 4,
   "metadata": {},
   "outputs": [],
   "source": [
    "phone_book['Pepe'] = '677542990'\n",
    "phone_book['María'] = '643555122'\n",
    "phone_book['Andrés'] = '686990101'"
   ]
  },
  {
   "cell_type": "markdown",
   "metadata": {},
   "source": [
    "También podemos crear el diccionario directamente y añadir valores:"
   ]
  },
  {
   "cell_type": "code",
   "execution_count": 5,
   "metadata": {},
   "outputs": [],
   "source": [
    "photos = {\n",
    "    'Pepe': '/usr/share/photos/r432rh23nf23f.jpg',\n",
    "    'María': '/usr/share/photos/32nn32po232.jpg',\n",
    "    'Andrés': '/usr/share/photos/piowe34323234.jpg'\n",
    "}"
   ]
  },
  {
   "cell_type": "markdown",
   "metadata": {},
   "source": [
    "## Consulta en un diccionario"
   ]
  },
  {
   "cell_type": "code",
   "execution_count": 6,
   "metadata": {},
   "outputs": [
    {
     "name": "stdout",
     "output_type": "stream",
     "text": [
      "677542990\n"
     ]
    }
   ],
   "source": [
    "print(phone_book['Pepe'])"
   ]
  },
  {
   "cell_type": "markdown",
   "metadata": {},
   "source": [
    "Si no existe la clave que buscamos obtendremos una **excepción**:"
   ]
  },
  {
   "cell_type": "code",
   "execution_count": 9,
   "metadata": {},
   "outputs": [
    {
     "ename": "KeyError",
     "evalue": "'Sergio'",
     "output_type": "error",
     "traceback": [
      "\u001b[0;31m---------------------------------------------------------------------------\u001b[0m",
      "\u001b[0;31mKeyError\u001b[0m                                  Traceback (most recent call last)",
      "\u001b[0;32m<ipython-input-9-f9088465ecb1>\u001b[0m in \u001b[0;36m<module>\u001b[0;34m\u001b[0m\n\u001b[0;32m----> 1\u001b[0;31m \u001b[0mprint\u001b[0m\u001b[0;34m(\u001b[0m\u001b[0mphone_book\u001b[0m\u001b[0;34m[\u001b[0m\u001b[0;34m'Sergio'\u001b[0m\u001b[0;34m]\u001b[0m\u001b[0;34m)\u001b[0m\u001b[0;34m\u001b[0m\u001b[0m\n\u001b[0m",
      "\u001b[0;31mKeyError\u001b[0m: 'Sergio'"
     ]
    }
   ],
   "source": [
    "print(phone_book['Sergio'])"
   ]
  },
  {
   "cell_type": "markdown",
   "metadata": {},
   "source": [
    "Podemos establecer un valor por defecto en caso de la clave que buscamos no exista:"
   ]
  },
  {
   "cell_type": "code",
   "execution_count": 10,
   "metadata": {},
   "outputs": [
    {
     "name": "stdout",
     "output_type": "stream",
     "text": [
      "112\n"
     ]
    }
   ],
   "source": [
    "print(phone_book.get('Sergio', '112'))"
   ]
  },
  {
   "cell_type": "markdown",
   "metadata": {},
   "source": [
    "## Pertenencia de una clave a un diccionario"
   ]
  },
  {
   "cell_type": "code",
   "execution_count": 11,
   "metadata": {},
   "outputs": [
    {
     "name": "stdout",
     "output_type": "stream",
     "text": [
      "Aún no tengo el teléfono de Sergio 😡\n"
     ]
    }
   ],
   "source": [
    "if 'Sergio' in phone_book:\n",
    "    print('Siri, llama a Sergio')\n",
    "else:\n",
    "    print('Aún no tengo el teléfono de Sergio 😡')"
   ]
  },
  {
   "cell_type": "markdown",
   "metadata": {},
   "source": [
    "## Recorriendo diccionarios"
   ]
  },
  {
   "cell_type": "markdown",
   "metadata": {},
   "source": [
    "A partir de la versión de Python 3.6+ los diccionarios \"recuerdan\" el orden de inserción de las claves:"
   ]
  },
  {
   "cell_type": "code",
   "execution_count": 13,
   "metadata": {},
   "outputs": [
    {
     "name": "stdout",
     "output_type": "stream",
     "text": [
      "Pepe\n",
      "María\n",
      "Andrés\n"
     ]
    }
   ],
   "source": [
    "for contact in phone_book:\n",
    "    print(contact)"
   ]
  },
  {
   "cell_type": "code",
   "execution_count": 14,
   "metadata": {},
   "outputs": [
    {
     "name": "stdout",
     "output_type": "stream",
     "text": [
      "Pepe -> 677542990\n",
      "María -> 643555122\n",
      "Andrés -> 686990101\n"
     ]
    }
   ],
   "source": [
    "for contact in phone_book:\n",
    "    print(contact, \"->\", phone_book[contact])"
   ]
  },
  {
   "cell_type": "markdown",
   "metadata": {},
   "source": [
    "*Python* nos ofrece otra forma de recorrer los diccionarios. Para ello debemos utilizar el método `items`:"
   ]
  },
  {
   "cell_type": "code",
   "execution_count": 15,
   "metadata": {},
   "outputs": [
    {
     "name": "stdout",
     "output_type": "stream",
     "text": [
      "Pepe 677542990\n",
      "María 643555122\n",
      "Andrés 686990101\n"
     ]
    }
   ],
   "source": [
    "for name, phone in phone_book.items():\n",
    "    print(name, phone)"
   ]
  },
  {
   "cell_type": "markdown",
   "metadata": {},
   "source": [
    "Existe un método de los diccionarios, que nos devuelve las claves mediante un generador, que luego podremos convertir a una lista:"
   ]
  },
  {
   "cell_type": "code",
   "execution_count": 16,
   "metadata": {},
   "outputs": [
    {
     "name": "stdout",
     "output_type": "stream",
     "text": [
      "['Pepe', 'María', 'Andrés']\n"
     ]
    }
   ],
   "source": [
    "print(list(phone_book.keys()))"
   ]
  },
  {
   "cell_type": "markdown",
   "metadata": {},
   "source": [
    "Si queremos recorrer las claves de un diccionario de un modo ordenado, podemos hacer lo siguiente:"
   ]
  },
  {
   "cell_type": "code",
   "execution_count": 18,
   "metadata": {},
   "outputs": [
    {
     "name": "stdout",
     "output_type": "stream",
     "text": [
      "Andrés\n",
      "María\n",
      "Pepe\n"
     ]
    }
   ],
   "source": [
    "for contact in sorted(phone_book):\n",
    "    print(contact)"
   ]
  },
  {
   "cell_type": "markdown",
   "metadata": {},
   "source": [
    "## Borrado de elementos"
   ]
  },
  {
   "cell_type": "code",
   "execution_count": 19,
   "metadata": {},
   "outputs": [
    {
     "name": "stdout",
     "output_type": "stream",
     "text": [
      "{'Pepe': '677542990', 'María': '643555122', 'Andrés': '686990101'}\n"
     ]
    }
   ],
   "source": [
    "print(phone_book)"
   ]
  },
  {
   "cell_type": "code",
   "execution_count": 20,
   "metadata": {},
   "outputs": [],
   "source": [
    "del(phone_book['Andrés'])"
   ]
  },
  {
   "cell_type": "code",
   "execution_count": 21,
   "metadata": {},
   "outputs": [
    {
     "name": "stdout",
     "output_type": "stream",
     "text": [
      "{'Pepe': '677542990', 'María': '643555122'}\n"
     ]
    }
   ],
   "source": [
    "print(phone_book)"
   ]
  },
  {
   "cell_type": "markdown",
   "metadata": {},
   "source": [
    "Si queremos borrar todo el diccionario, vale con:"
   ]
  },
  {
   "cell_type": "code",
   "execution_count": 23,
   "metadata": {},
   "outputs": [],
   "source": [
    "phone_book = {}"
   ]
  },
  {
   "cell_type": "code",
   "execution_count": 24,
   "metadata": {},
   "outputs": [
    {
     "name": "stdout",
     "output_type": "stream",
     "text": [
      "{}\n"
     ]
    }
   ],
   "source": [
    "print(phone_book)"
   ]
  },
  {
   "cell_type": "markdown",
   "metadata": {},
   "source": [
    "## Listas de diccionarios"
   ]
  },
  {
   "cell_type": "markdown",
   "metadata": {},
   "source": [
    "Supongamos que queremos guardar el stock de los ordenadores de una empresa:"
   ]
  },
  {
   "cell_type": "code",
   "execution_count": 17,
   "metadata": {},
   "outputs": [],
   "source": [
    "stock = [\n",
    "    {\n",
    "        'id': 256,\n",
    "        'brand': 'ACER',\n",
    "        'model': 'TFE2343'\n",
    "    },\n",
    "    {\n",
    "        'id': 109,\n",
    "        'brand': 'HP',\n",
    "        'model': '777YOQ'\n",
    "    },\n",
    "    {\n",
    "        'id': 108,\n",
    "        'brand': 'ASUS',\n",
    "        'model': 'HH123'\n",
    "    }\n",
    "]"
   ]
  },
  {
   "cell_type": "code",
   "execution_count": 18,
   "metadata": {},
   "outputs": [
    {
     "name": "stdout",
     "output_type": "stream",
     "text": [
      "[{'id': 256, 'brand': 'ACER', 'model': 'TFE2343'}, {'id': 109, 'brand': 'HP', 'model': '777YOQ'}, {'id': 108, 'brand': 'ASUS', 'model': 'HH123'}]\n"
     ]
    }
   ],
   "source": [
    "print(stock)"
   ]
  },
  {
   "cell_type": "markdown",
   "metadata": {},
   "source": [
    "Existe un módulo en la librería estándar que nos permite visualizar ciertas estructuras de datos de una forma más clara:"
   ]
  },
  {
   "cell_type": "code",
   "execution_count": 19,
   "metadata": {},
   "outputs": [
    {
     "name": "stdout",
     "output_type": "stream",
     "text": [
      "[{'brand': 'ACER', 'id': 256, 'model': 'TFE2343'},\n",
      " {'brand': 'HP', 'id': 109, 'model': '777YOQ'},\n",
      " {'brand': 'ASUS', 'id': 108, 'model': 'HH123'}]\n"
     ]
    }
   ],
   "source": [
    "from pprint import pprint\n",
    "\n",
    "pprint(stock)"
   ]
  },
  {
   "cell_type": "markdown",
   "metadata": {},
   "source": [
    "También podemos escribir código propio para mostrar la estructura de forma personalizada:"
   ]
  },
  {
   "cell_type": "code",
   "execution_count": 20,
   "metadata": {},
   "outputs": [
    {
     "name": "stdout",
     "output_type": "stream",
     "text": [
      "id -> 256\n",
      "brand -> ACER\n",
      "model -> TFE2343\n",
      "\n",
      "id -> 109\n",
      "brand -> HP\n",
      "model -> 777YOQ\n",
      "\n",
      "id -> 108\n",
      "brand -> ASUS\n",
      "model -> HH123\n",
      "\n"
     ]
    }
   ],
   "source": [
    "for computer in stock:\n",
    "    # computer es un diccionario\n",
    "    for feature, value in computer.items():\n",
    "        print(f'{feature} -> {value}')\n",
    "    print()"
   ]
  },
  {
   "cell_type": "markdown",
   "metadata": {},
   "source": [
    "### Construir una lista de diccionarios de forma dinámica"
   ]
  },
  {
   "cell_type": "markdown",
   "metadata": {},
   "source": [
    "Supongamos que queremos construir la estructura de datos anterior (*stock*), pero pidiendo los datos al usuario, para que los introduzca por teclado:"
   ]
  },
  {
   "cell_type": "code",
   "execution_count": 30,
   "metadata": {},
   "outputs": [
    {
     "name": "stdout",
     "output_type": "stream",
     "text": [
      "Introduzca el ID del equipo: 32\n",
      "Introduzca la marca del equipo: APPLE\n",
      "Introduzca el modelo del equipo: Macbook Air\n",
      "¿Quiere salir? [S|N]: N\n",
      "Introduzca el ID del equipo: 198\n",
      "Introduzca la marca del equipo: ASUS\n",
      "Introduzca el modelo del equipo: MAG123\n",
      "¿Quiere salir? [S|N]: S\n"
     ]
    }
   ],
   "source": [
    "stock = []\n",
    "while True:\n",
    "    id = int(input('Introduzca el ID del equipo: '))\n",
    "    brand = input('Introduzca la marca del equipo: ')\n",
    "    model = input('Introduzca el modelo del equipo: ')\n",
    "    # construimos el diccionario\n",
    "    computer = {\n",
    "        'id': id,\n",
    "        'brand': brand,\n",
    "        'model': model\n",
    "    }\n",
    "    # dado que stock es una lista, utilizamos el método append para añadir elementos\n",
    "    stock.append(computer)\n",
    "    exit = input('¿Quiere salir? [S|N]: ')\n",
    "    if exit == 'S':\n",
    "        break"
   ]
  },
  {
   "cell_type": "code",
   "execution_count": 31,
   "metadata": {},
   "outputs": [
    {
     "name": "stdout",
     "output_type": "stream",
     "text": [
      "[{'id': 32, 'brand': 'APPLE', 'model': 'Macbook Air'}, {'id': 198, 'brand': 'ASUS', 'model': 'MAG123'}]\n"
     ]
    }
   ],
   "source": [
    "print(stock)"
   ]
  },
  {
   "cell_type": "code",
   "execution_count": 32,
   "metadata": {},
   "outputs": [
    {
     "name": "stdout",
     "output_type": "stream",
     "text": [
      "[{'brand': 'APPLE', 'id': 32, 'model': 'Macbook Air'},\n",
      " {'brand': 'ASUS', 'id': 198, 'model': 'MAG123'}]\n"
     ]
    }
   ],
   "source": [
    "pprint(stock)"
   ]
  },
  {
   "cell_type": "markdown",
   "metadata": {},
   "source": [
    "## Diccionarios de listas"
   ]
  },
  {
   "cell_type": "markdown",
   "metadata": {},
   "source": [
    "Supongamos que queremos registrar las temperaturas de diferentes zonas de España durante una determinada semana:"
   ]
  },
  {
   "cell_type": "code",
   "execution_count": 9,
   "metadata": {},
   "outputs": [],
   "source": [
    "measurements = {\n",
    "    # código postal: [temperaturas de cada uno de los días de la semana]\n",
    "    '45671': [19, 4, 16, 32, 34, 26, 23],\n",
    "    '38300': [19, 28, 0, 24, 28, 2, 5],\n",
    "    '88901': [30, 24, 25, 25, 21, 4, 24]\n",
    "}"
   ]
  },
  {
   "cell_type": "code",
   "execution_count": 10,
   "metadata": {},
   "outputs": [
    {
     "name": "stdout",
     "output_type": "stream",
     "text": [
      "{'38300': [19, 28, 0, 24, 28, 2, 5],\n",
      " '45671': [19, 4, 16, 32, 34, 26, 23],\n",
      " '88901': [30, 24, 25, 25, 21, 4, 24]}\n"
     ]
    }
   ],
   "source": [
    "pprint(measurements)"
   ]
  },
  {
   "cell_type": "code",
   "execution_count": 16,
   "metadata": {},
   "outputs": [
    {
     "name": "stdout",
     "output_type": "stream",
     "text": [
      "Temperatures in postal code 45671 for this week:\n",
      "19C, 4C, 16C, 32C, 34C, 26C, 23C, \n",
      "Temperatures in postal code 38300 for this week:\n",
      "19C, 28C, 0C, 24C, 28C, 2C, 5C, \n",
      "Temperatures in postal code 88901 for this week:\n",
      "30C, 24C, 25C, 25C, 21C, 4C, 24C, \n"
     ]
    }
   ],
   "source": [
    "for postal_code, temperatures in measurements.items():\n",
    "    print(f'Temperatures in postal code {postal_code} for this week:')\n",
    "    # temperatures es una lista\n",
    "    for temp in temperatures:\n",
    "        print(f'{temp}C', end=', ')\n",
    "    print()"
   ]
  },
  {
   "cell_type": "code",
   "execution_count": null,
   "metadata": {},
   "outputs": [],
   "source": []
  }
 ],
 "metadata": {
  "kernelspec": {
   "display_name": "Python 3",
   "language": "python",
   "name": "python3"
  },
  "language_info": {
   "codemirror_mode": {
    "name": "ipython",
    "version": 3
   },
   "file_extension": ".py",
   "mimetype": "text/x-python",
   "name": "python",
   "nbconvert_exporter": "python",
   "pygments_lexer": "ipython3",
   "version": "3.7.0"
  }
 },
 "nbformat": 4,
 "nbformat_minor": 1
}
