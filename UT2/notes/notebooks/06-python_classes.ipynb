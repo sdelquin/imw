{
 "cells": [
  {
   "cell_type": "markdown",
   "metadata": {},
   "source": [
    "# Clases"
   ]
  },
  {
   "cell_type": "markdown",
   "metadata": {},
   "source": [
    "![Present](img/present.png)"
   ]
  },
  {
   "cell_type": "markdown",
   "metadata": {},
   "source": [
    "## Todo son objetos"
   ]
  },
  {
   "cell_type": "markdown",
   "metadata": {},
   "source": [
    "En el paradigma de **programación orientada a objetos** (POO, o bien OOP en inglés), un **objeto** es una unidad dentro de un programa de computadora que consta de un *estado* y de un *comportamiento*, que a su vez constan respectivamente de *datos almacenados* y de *tareas realizables* durante el tiempo de ejecución. Un objeto puede ser creado instanciando una **clase**, como ocurre en la programación orientada a objetos."
   ]
  },
  {
   "cell_type": "code",
   "execution_count": 1,
   "metadata": {},
   "outputs": [],
   "source": [
    "# data es un objeto tipo lista\n",
    "# se crea instanciando la clase list\n",
    "\n",
    "data = list()    # equivalente a data = []"
   ]
  },
  {
   "cell_type": "code",
   "execution_count": 2,
   "metadata": {},
   "outputs": [
    {
     "name": "stdout",
     "output_type": "stream",
     "text": [
      "[]\n"
     ]
    }
   ],
   "source": [
    "# su estado actual (datos almacenados) es una lista vacía\n",
    "print(data)"
   ]
  },
  {
   "cell_type": "code",
   "execution_count": 3,
   "metadata": {},
   "outputs": [],
   "source": [
    "# podemos cambiar su estado, mediante un comportamiento (tareas realizables)\n",
    "# estamos invocando/llamando a un método de la clase\n",
    "data.append(3)"
   ]
  },
  {
   "cell_type": "code",
   "execution_count": 4,
   "metadata": {},
   "outputs": [
    {
     "name": "stdout",
     "output_type": "stream",
     "text": [
      "[3]\n"
     ]
    }
   ],
   "source": [
    "# el estado ha cambiado\n",
    "print(data)"
   ]
  },
  {
   "cell_type": "markdown",
   "metadata": {},
   "source": [
    "## Definición de clases"
   ]
  },
  {
   "cell_type": "markdown",
   "metadata": {},
   "source": [
    "Vamos a crear una clase que nos permita \"modelar\" los usuarios de nuestro sistema UNIX:"
   ]
  },
  {
   "cell_type": "markdown",
   "metadata": {},
   "source": [
    "### Constructor"
   ]
  },
  {
   "cell_type": "code",
   "execution_count": 5,
   "metadata": {},
   "outputs": [],
   "source": [
    "from crypt import crypt\n",
    "\n",
    "CRYPT_SALT = 'fnewiofhwoibewbfwbflwbfle'\n",
    "\n",
    "class UnixUser:\n",
    "    def __init__(self, username, password, shell='bash'):\n",
    "        self.username = username\n",
    "        self.password = crypt(password, CRYPT_SALT)\n",
    "        self.shell = f'/bin/{shell}'\n",
    "        self.home = f'/home/{username}'"
   ]
  },
  {
   "cell_type": "markdown",
   "metadata": {},
   "source": [
    "Sólo con esto, ya podríamos crear objetos de la clase `UnixUser`:"
   ]
  },
  {
   "cell_type": "code",
   "execution_count": 6,
   "metadata": {},
   "outputs": [],
   "source": [
    "user1 = UnixUser('pepe', 'potajedecoles')"
   ]
  },
  {
   "cell_type": "code",
   "execution_count": 7,
   "metadata": {},
   "outputs": [
    {
     "name": "stdout",
     "output_type": "stream",
     "text": [
      "<__main__.UnixUser object at 0x107d45e80>\n"
     ]
    }
   ],
   "source": [
    "print(user1)"
   ]
  },
  {
   "cell_type": "markdown",
   "metadata": {},
   "source": [
    "Comprobamos que los atributos del objeto se han creado satisfactoriamente:"
   ]
  },
  {
   "cell_type": "code",
   "execution_count": 8,
   "metadata": {},
   "outputs": [
    {
     "name": "stdout",
     "output_type": "stream",
     "text": [
      "pepe\n"
     ]
    }
   ],
   "source": [
    "print(user1.username)"
   ]
  },
  {
   "cell_type": "code",
   "execution_count": 9,
   "metadata": {},
   "outputs": [
    {
     "name": "stdout",
     "output_type": "stream",
     "text": [
      "fnc5q77EdpTms\n"
     ]
    }
   ],
   "source": [
    "print(user1.password)"
   ]
  },
  {
   "cell_type": "code",
   "execution_count": 10,
   "metadata": {},
   "outputs": [
    {
     "name": "stdout",
     "output_type": "stream",
     "text": [
      "/home/pepe\n"
     ]
    }
   ],
   "source": [
    "print(user1.home)"
   ]
  },
  {
   "cell_type": "code",
   "execution_count": 11,
   "metadata": {},
   "outputs": [
    {
     "name": "stdout",
     "output_type": "stream",
     "text": [
      "/bin/bash\n"
     ]
    }
   ],
   "source": [
    "print(user1.shell)"
   ]
  },
  {
   "cell_type": "markdown",
   "metadata": {},
   "source": [
    "### Métodos"
   ]
  },
  {
   "cell_type": "markdown",
   "metadata": {},
   "source": [
    "En primer lugar, vamos a implementar el método que nos permite imprimir el objeto de forma \"bonita\":"
   ]
  },
  {
   "cell_type": "code",
   "execution_count": 12,
   "metadata": {},
   "outputs": [],
   "source": [
    "from crypt import crypt\n",
    "\n",
    "CRYPT_SALT = 'fnewiofhwoibewbfwbflwbfle'\n",
    "\n",
    "class UnixUser:\n",
    "    def __init__(self, username, password, shell='bash'):\n",
    "        self.username = username\n",
    "        self.password = crypt(password, CRYPT_SALT)\n",
    "        self.shell = f'/bin/{shell}'\n",
    "        self.home = f'/home/{username}'\n",
    "\n",
    "    def __str__(self):\n",
    "        return f'{self.username} in {self.home} with {self.shell}'"
   ]
  },
  {
   "cell_type": "markdown",
   "metadata": {},
   "source": [
    "Pasamos a probar lo que hemos implementado:"
   ]
  },
  {
   "cell_type": "code",
   "execution_count": 13,
   "metadata": {},
   "outputs": [],
   "source": [
    "user2 = UnixUser('sara', 'nopongas1234', 'zsh')"
   ]
  },
  {
   "cell_type": "code",
   "execution_count": 14,
   "metadata": {},
   "outputs": [
    {
     "name": "stdout",
     "output_type": "stream",
     "text": [
      "sara in /home/sara with /bin/zsh\n"
     ]
    }
   ],
   "source": [
    "print(user2)"
   ]
  },
  {
   "cell_type": "markdown",
   "metadata": {},
   "source": [
    "Ahora vamos a hacer un método que nos permita comprobar si la contraseña introducida es la correcta:"
   ]
  },
  {
   "cell_type": "code",
   "execution_count": 15,
   "metadata": {},
   "outputs": [],
   "source": [
    "from crypt import crypt\n",
    "\n",
    "CRYPT_SALT = 'fnewiofhwoibewbfwbflwbfle'\n",
    "\n",
    "class UnixUser:\n",
    "    def __init__(self, username, password, shell='bash'):\n",
    "        self.username = username\n",
    "        self.password = crypt(password, CRYPT_SALT)\n",
    "        self.shell = f'/bin/{shell}'\n",
    "        self.home = f'/home/{username}'\n",
    "\n",
    "    def __str__(self):\n",
    "        return f'{self.username} in {self.home} with {self.shell}'\n",
    "\n",
    "    def check_password(self, password):\n",
    "        if self.password == crypt(password, CRYPT_SALT):\n",
    "            return True\n",
    "        else:\n",
    "            return False"
   ]
  },
  {
   "cell_type": "markdown",
   "metadata": {},
   "source": [
    "Hacemos algunas pruebas con el nuevo método implementado:"
   ]
  },
  {
   "cell_type": "code",
   "execution_count": 16,
   "metadata": {},
   "outputs": [],
   "source": [
    "user3 = UnixUser('ursula', 'wahlsteen')"
   ]
  },
  {
   "cell_type": "code",
   "execution_count": 17,
   "metadata": {},
   "outputs": [
    {
     "name": "stdout",
     "output_type": "stream",
     "text": [
      "ursula in /home/ursula with /bin/bash\n"
     ]
    }
   ],
   "source": [
    "print(user3)"
   ]
  },
  {
   "cell_type": "code",
   "execution_count": 18,
   "metadata": {},
   "outputs": [
    {
     "name": "stdout",
     "output_type": "stream",
     "text": [
      "Introduzca su password: wahlsteen\n",
      "Correcto!\n"
     ]
    }
   ],
   "source": [
    "passwd = input('Introduzca su password: ')\n",
    "if user3.check_password(passwd):\n",
    "    print('Correcto!')\n",
    "else:\n",
    "    print('Sigue probando. Hay miles de premios!')"
   ]
  },
  {
   "cell_type": "markdown",
   "metadata": {},
   "source": [
    "Supongamos que ahora, nuestro `user3` cambia de shell. Para eso, podemos hacer:"
   ]
  },
  {
   "cell_type": "code",
   "execution_count": 19,
   "metadata": {},
   "outputs": [],
   "source": [
    "from crypt import crypt\n",
    "\n",
    "CRYPT_SALT = 'fnewiofhwoibewbfwbflwbfle'\n",
    "\n",
    "class UnixUser:\n",
    "    def __init__(self, username, password, shell='bash'):\n",
    "        self.username = username\n",
    "        self.password = crypt(password, CRYPT_SALT)\n",
    "        self.shell = f'/bin/{shell}'\n",
    "        self.home = f'/home/{username}'\n",
    "\n",
    "    def __str__(self):\n",
    "        return f'{self.username} in {self.home} with {self.shell}'\n",
    "\n",
    "    def check_password(self, password):\n",
    "        if self.password == crypt(password, CRYPT_SALT):\n",
    "            return True\n",
    "        else:\n",
    "            return False\n",
    "\n",
    "    def set_shell(self, shell):\n",
    "        if shell in ['bash', 'zsh', 'fish', 'ksh', 'tcsh']:\n",
    "            self.shell = f'/bin/{shell}'"
   ]
  },
  {
   "cell_type": "code",
   "execution_count": 20,
   "metadata": {},
   "outputs": [],
   "source": [
    "user4 = UnixUser('ander', 'water')"
   ]
  },
  {
   "cell_type": "code",
   "execution_count": 21,
   "metadata": {},
   "outputs": [
    {
     "name": "stdout",
     "output_type": "stream",
     "text": [
      "ander in /home/ander with /bin/bash\n"
     ]
    }
   ],
   "source": [
    "print(user4)"
   ]
  },
  {
   "cell_type": "code",
   "execution_count": 22,
   "metadata": {},
   "outputs": [
    {
     "name": "stdout",
     "output_type": "stream",
     "text": [
      "ander in /home/ander with /bin/bash\n"
     ]
    }
   ],
   "source": [
    "user4.set_shell('algoraro')\n",
    "print(user4)"
   ]
  },
  {
   "cell_type": "code",
   "execution_count": 23,
   "metadata": {
    "scrolled": true
   },
   "outputs": [
    {
     "name": "stdout",
     "output_type": "stream",
     "text": [
      "ander in /home/ander with /bin/fish\n"
     ]
    }
   ],
   "source": [
    "user4.set_shell('fish')\n",
    "print(user4)"
   ]
  },
  {
   "cell_type": "markdown",
   "metadata": {},
   "source": [
    "## Listas de objetos"
   ]
  },
  {
   "cell_type": "markdown",
   "metadata": {},
   "source": [
    "Supongamos que nos interesa guardar todos los usuarios del sistema. Vamos a implementar una lista de objetos:"
   ]
  },
  {
   "cell_type": "code",
   "execution_count": 25,
   "metadata": {},
   "outputs": [],
   "source": [
    "users = []"
   ]
  },
  {
   "cell_type": "code",
   "execution_count": 26,
   "metadata": {},
   "outputs": [],
   "source": [
    "users.append(UnixUser('rihanna', '4234523'))\n",
    "users.append(UnixUser('ronaldo', '5555222'))\n",
    "users.append(UnixUser('madonna', '6623235'))"
   ]
  },
  {
   "cell_type": "code",
   "execution_count": 27,
   "metadata": {},
   "outputs": [
    {
     "name": "stdout",
     "output_type": "stream",
     "text": [
      "[<__main__.UnixUser object at 0x107d7a240>, <__main__.UnixUser object at 0x107d7a278>, <__main__.UnixUser object at 0x107d7a1d0>]\n"
     ]
    }
   ],
   "source": [
    "print(users)"
   ]
  },
  {
   "cell_type": "code",
   "execution_count": 28,
   "metadata": {},
   "outputs": [
    {
     "name": "stdout",
     "output_type": "stream",
     "text": [
      "rihanna in /home/rihanna with /bin/bash\n",
      "ronaldo in /home/ronaldo with /bin/bash\n",
      "madonna in /home/madonna with /bin/bash\n"
     ]
    }
   ],
   "source": [
    "for user in users:\n",
    "    print(user)"
   ]
  },
  {
   "cell_type": "markdown",
   "metadata": {},
   "source": [
    "Y si ahora, nuestro jefe nos pide que todos los usuarios deben tener como shell la `zsh` ??"
   ]
  },
  {
   "cell_type": "code",
   "execution_count": 30,
   "metadata": {},
   "outputs": [],
   "source": [
    "for user in users:\n",
    "    user.set_shell('zsh')"
   ]
  },
  {
   "cell_type": "code",
   "execution_count": 32,
   "metadata": {
    "scrolled": true
   },
   "outputs": [
    {
     "name": "stdout",
     "output_type": "stream",
     "text": [
      "rihanna in /home/rihanna with /bin/zsh\n",
      "ronaldo in /home/ronaldo with /bin/zsh\n",
      "madonna in /home/madonna with /bin/zsh\n"
     ]
    }
   ],
   "source": [
    "for user in users:\n",
    "    print(user)"
   ]
  },
  {
   "cell_type": "markdown",
   "metadata": {},
   "source": [
    "## Un ejemplo de coches"
   ]
  },
  {
   "cell_type": "code",
   "execution_count": 2,
   "metadata": {},
   "outputs": [
    {
     "name": "stdout",
     "output_type": "stream",
     "text": [
      "BMW 1000cc (200 caballos)\n",
      "Velocidad 0 km/h\n",
      "Gasolina: 100.0%\n",
      "----------------\n",
      "BMW 1000cc (200 caballos)\n",
      "Velocidad 20 km/h\n",
      "Gasolina: 97.5%\n",
      "----------------\n",
      "Mercedes 2000cc (50 caballos)\n",
      "Velocidad 100 km/h\n",
      "Gasolina: 87.5%\n",
      "----------------\n",
      "Mercedes 2000cc (50 caballos)\n",
      "Velocidad 100 km/h\n",
      "Gasolina: 87.5%\n",
      "Extras: aire acondicionado,llantas 20\"\n",
      "----------------\n",
      "Jaguar 600cc (50 caballos)\n",
      "Velocidad 0 km/h\n",
      "Gasolina: 100.0%\n",
      "----------------\n",
      "Jaguar 600cc (50 caballos)\n",
      "Velocidad 50 km/h\n",
      "Gasolina: 93.75%\n",
      "----------------\n",
      "Jaguar 600cc (50 caballos)\n",
      "Velocidad 30 km/h\n",
      "Gasolina: 93.75%\n",
      "----------------\n"
     ]
    }
   ],
   "source": [
    "# %load \"code/coches.py\"\n",
    "import os\n",
    "\n",
    "\n",
    "class Coche:\n",
    "    def __init__(self, nombre, cc, caballos, color, deposito_gasolina=40):\n",
    "        self.nombre = nombre\n",
    "        self.cc = cc\n",
    "        self.caballos = caballos\n",
    "        self.color = color\n",
    "        self.velocidad = 0\n",
    "        self.extras = []\n",
    "        self.deposito_gasolina = deposito_gasolina\n",
    "        self.gasolina = self.deposito_gasolina\n",
    "\n",
    "    def porcentaje_gasolina(self):\n",
    "        return self.gasolina / self.deposito_gasolina * 100\n",
    "\n",
    "    def __str__(self):\n",
    "        buffer = []\n",
    "        buffer.append(f'''{self.nombre} {self.cc}cc ({self.caballos} caballos)\n",
    "Velocidad {self.velocidad} km/h\n",
    "Gasolina: {self.porcentaje_gasolina()}%''')\n",
    "        if self.extras:\n",
    "            extras = ','.join(self.extras)\n",
    "            buffer.append(f'Extras: {extras}')\n",
    "        buffer.append('----------------')\n",
    "        return os.linesep.join(buffer)\n",
    "\n",
    "    def acelerar(self, aceleracion):\n",
    "        self.gasolina -= 0.05 * aceleracion\n",
    "        self.velocidad += aceleracion\n",
    "\n",
    "    def frenar(self, deceleracion):\n",
    "        self.velocidad -= deceleracion\n",
    "\n",
    "    def añade_extra(self, extra):\n",
    "        self.extras.append(extra)\n",
    "\n",
    "\n",
    "if __name__ == '__main__':\n",
    "    coche1 = Coche('BMW', 1000, 200, 'azul')\n",
    "    coche2 = Coche('Mercedes', 2000, 50, 'amarillo')\n",
    "    coche3 = Coche('Jaguar', 600, 50, 'blanco')\n",
    "    print(coche1)\n",
    "    coche1.acelerar(20)\n",
    "    print(coche1)\n",
    "    coche2.acelerar(100)\n",
    "    print(coche2)\n",
    "    coche2.añade_extra('aire acondicionado')\n",
    "    coche2.añade_extra('llantas 20\"')\n",
    "    print(coche2)\n",
    "    print(coche3)\n",
    "    coche3.acelerar(50)\n",
    "    print(coche3)\n",
    "    coche3.frenar(20)\n",
    "    print(coche3)\n"
   ]
  }
 ],
 "metadata": {
  "kernelspec": {
   "display_name": "Python 3",
   "language": "python",
   "name": "python3"
  },
  "language_info": {
   "codemirror_mode": {
    "name": "ipython",
    "version": 3
   },
   "file_extension": ".py",
   "mimetype": "text/x-python",
   "name": "python",
   "nbconvert_exporter": "python",
   "pygments_lexer": "ipython3",
   "version": "3.7.0"
  }
 },
 "nbformat": 4,
 "nbformat_minor": 1
}
