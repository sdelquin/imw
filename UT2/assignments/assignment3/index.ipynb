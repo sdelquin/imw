{
 "cells": [
  {
   "cell_type": "markdown",
   "metadata": {},
   "source": [
    "# UT2-A3: Empezando a iterar\n",
    "\n",
    "La actividad consiste en hacer varios programas Python:"
   ]
  },
  {
   "cell_type": "markdown",
   "metadata": {},
   "source": [
    "## Programa 1\n",
    "\n",
    "El programa debe cumplir con las siguientes especificaciones:\n",
    "\n",
    "1. Leer un número (entero positivo) por línea de comandos.\n",
    "2. Emitir un error si el número no es positivo, y salir del programa.\n",
    "3. Determinar si el número introducido es *primo*.\n",
    "\n",
    "> NOTA: Un número primo es aquel que sólo es divisible por 1 y por él mismo.\n",
    "> \n",
    "> Ejemplo: 11 es primo, porque no es divisible ni por 2, ni por 3, ni por 4, ni por 5, ni por 6, ni por 7, ni por 8, ni por 9, ni por 10. Sólo es divisible por 1 y por 11.\n",
    "\n",
    "### Modo de uso\n",
    "\n",
    "```console\n",
    "$> python program1.py 12\n",
    "No es primo!\n",
    "```\n",
    "\n",
    "```console\n",
    "$> python program1.py 11\n",
    "Es primo!\n",
    "```"
   ]
  },
  {
   "cell_type": "markdown",
   "metadata": {},
   "source": [
    "## Programa 2\n",
    "\n",
    "El programa debe cumplir con las siguientes especificaciones:\n",
    "\n",
    "1. Leer un número (entero positivo) por línea de comandos.\n",
    "2. Emitir un error si el número no es positivo, y salir del programa.\n",
    "2. Calcular la suma de los cuadrados de todos los números enteros desde 1 hasta el número introducido (inclusive).\n",
    "\n",
    "> Si la entrada es $5$, la salida debe ser: $1^2 + 2^2 + 3^2 + 4^2 + 5^2 = 55$\n",
    "\n",
    "### Modo de uso\n",
    "\n",
    "```console\n",
    "$> python program2.py 5\n",
    "55\n",
    "```"
   ]
  },
  {
   "cell_type": "markdown",
   "metadata": {},
   "source": [
    "## Programa 3\n",
    "\n",
    "El programa debe cumplir con las siguientes especificaciones:\n",
    "\n",
    "1. Leer dos números (enteros positivos) por línea de comandos.\n",
    "2. Emitir un error si los números no son positivos, y salir del programa.\n",
    "3. Calcular el *máximo común divisor* `mcd` de los dos números introducidos. El `mcd` es el número más grande que divide exactamente a ambos números.\n",
    "\n",
    "> Si la entrada es $a=24$ y $b=18$, el *máximo común divisor* de los dos números es $6$.\n",
    "\n",
    "> También puedes consultar la página web http://es.calcuworld.com/calculadoras-matematicas/mcd/ para comprobar que tus resultados son correctos.\n",
    "\n",
    "### Modo de uso\n",
    "\n",
    "```console\n",
    "$> python program3.py 24 18\n",
    "6\n",
    "```\n",
    "\n",
    "```console\n",
    "$> python program3.py 11 7\n",
    "1\n",
    "```"
   ]
  },
  {
   "cell_type": "markdown",
   "metadata": {},
   "source": [
    "## Programa 4\n",
    "\n",
    "El programa debe cumplir con las siguientes especificaciones:\n",
    "\n",
    "1. Leer un número (entero positivo) por línea de comandos.\n",
    "2. Emitir un error si el número no es positivo, y salir del programa.\n",
    "3. Calcular el factorial de todos los números desde 1 hasta el número introducido por teclado (inclusive).\n",
    "\n",
    "> NOTA: El factorial de un número es la multiplicación de todos los números desde 1 hasta dicho número. Por ejemplo, el factorial de 6 será: $6! = 6 * 5 * 4 * 3 * 2 * 1 = 720$\n",
    "\n",
    "```console\n",
    "$> python program4.py 6\n",
    "1! = 1\n",
    "2! = 2\n",
    "3! = 6\n",
    "4! = 24\n",
    "5! = 120\n",
    "6! = 720\n",
    "```"
   ]
  },
  {
   "cell_type": "markdown",
   "metadata": {},
   "source": [
    "## Información a entregar\n",
    "\n",
    "Se deberá entregar la *url* al commit en el repositorio privado *GitHub* de la asignatura *IMW*, apuntando a la carpeta que contiene los ficheros de código Python. La *url* debe tener la siguiente estructura:\n",
    "\n",
    "```\n",
    "https://github.com/<usuario>/imw/blob/<id del commit>/<ut>/<actividad>/\n",
    "```\n",
    "\n",
    "> ⚠️ Al subir la *url*, es importante crear un enlace. Es decir, poner un `href` a la *url* anterior, y no pegar el texto tal cual."
   ]
  }
 ],
 "metadata": {
  "kernelspec": {
   "display_name": "Python 3",
   "language": "python",
   "name": "python3"
  },
  "language_info": {
   "codemirror_mode": {
    "name": "ipython",
    "version": 3
   },
   "file_extension": ".py",
   "mimetype": "text/x-python",
   "name": "python",
   "nbconvert_exporter": "python",
   "pygments_lexer": "ipython3",
   "version": "3.7.0"
  }
 },
 "nbformat": 4,
 "nbformat_minor": 2
}
