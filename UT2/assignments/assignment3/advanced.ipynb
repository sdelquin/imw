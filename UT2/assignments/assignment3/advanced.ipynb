{
 "cells": [
  {
   "cell_type": "markdown",
   "metadata": {},
   "source": [
    "# UT2-A3 (avanzado): Empezando a iterar\n",
    "\n",
    "La actividad consiste en hacer varios programas Python:"
   ]
  },
  {
   "cell_type": "markdown",
   "metadata": {},
   "source": [
    "## Programa 1\n",
    "\n",
    "El programa debe cumplir con las siguientes especificaciones:\n",
    "\n",
    "1. Leer un número (entero positivo) por línea de comandos.\n",
    "2. Emitir un error si el número no es positivo, y salir del programa.\n",
    "3. Mostrar por pantalla tantos elementos de la [sucesión de Fibonacci](https://es.wikipedia.org/wiki/Sucesi%C3%B3n_de_Fibonacci) como indique el número leído.\n",
    "\n",
    "\n",
    "- $ f_0 = 0 $\n",
    "- $ f_1 = 1 $\n",
    "- $ f_n = f_{n-1} + f_{n-2} $\n",
    "\n",
    "### Caso de uso\n",
    "\n",
    "~~~console\n",
    "$> python program1.py 8\n",
    "0 1 1 2 3 5 8 13\n",
    "~~~"
   ]
  },
  {
   "cell_type": "markdown",
   "metadata": {},
   "source": [
    "## Programa 2\n",
    "\n",
    "El programa debe cumplir con las siguientes especificaciones:\n",
    "\n",
    "1. Leer un número (entero positivo) por línea de comandos.\n",
    "2. Emitir un error si el número no es positivo, y salir del programa.\n",
    "3. [Descomponer dicho número en sus factores primos](https://www.portaleducativo.net/quinto-basico/773/factores-primos).\n",
    "\n",
    "### Caso de uso\n",
    "\n",
    "~~~console\n",
    "$> python program2.py 24\n",
    "24 = 2 * 2 * 2 * 3\n",
    "~~~"
   ]
  }
 ],
 "metadata": {
  "kernelspec": {
   "display_name": "Python 3",
   "language": "python",
   "name": "python3"
  },
  "language_info": {
   "codemirror_mode": {
    "name": "ipython",
    "version": 3
   },
   "file_extension": ".py",
   "mimetype": "text/x-python",
   "name": "python",
   "nbconvert_exporter": "python",
   "pygments_lexer": "ipython3",
   "version": "3.7.0"
  }
 },
 "nbformat": 4,
 "nbformat_minor": 2
}
